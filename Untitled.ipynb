{
 "cells": [
  {
   "cell_type": "code",
   "execution_count": 12,
   "metadata": {},
   "outputs": [],
   "source": [
    "import PyPDF2 as pdf"
   ]
  },
  {
   "cell_type": "code",
   "execution_count": 136,
   "metadata": {},
   "outputs": [
    {
     "data": {
      "text/plain": [
       "['../videos/2018_sdc_mobileye.mpg',\n",
       " '../videos/2018_sdc_detection_dpm.mpg',\n",
       " '../videos/2018_sdc_detection_mask_rcnn.mpg',\n",
       " '../videos/2018_sdc_densepose.mpg',\n",
       " '../videos/2019_mesh_rcnn.mpg',\n",
       " '../videos/2018_sdc_tracking_discrete_continuous.mpg',\n",
       " '../videos/2018_sdc_tracking_bees.mpg']"
      ]
     },
     "execution_count": 136,
     "metadata": {},
     "output_type": "execute_result"
    }
   ],
   "source": [
    "def read_page(n, reader):\n",
    "    pageObj = reader.getPage(n)\n",
    "    if not '/Annots' in pageObj.keys(): return\n",
    "    paths = []\n",
    "    for obj in pageObj['/Annots']:\n",
    "        path = obj.getObject()['/A'].get('/F')\n",
    "        if path:\n",
    "            paths.append(path)\n",
    "    return paths\n",
    "    \n",
    "\n",
    "with open('10_detection_tracking.pdf', 'rb') as f:\n",
    "    reader = pdf.PdfFileReader(f)\n",
    "    paths = []\n",
    "    for i in range(reader.getNumPages()):\n",
    "        path = read_page(i, reader)\n",
    "        if path:\n",
    "            paths.extend(path)\n",
    "paths"
   ]
  }
 ],
 "metadata": {
  "kernelspec": {
   "display_name": "Python 3",
   "language": "python",
   "name": "python3"
  },
  "language_info": {
   "codemirror_mode": {
    "name": "ipython",
    "version": 3
   },
   "file_extension": ".py",
   "mimetype": "text/x-python",
   "name": "python",
   "nbconvert_exporter": "python",
   "pygments_lexer": "ipython3",
   "version": "3.7.5"
  }
 },
 "nbformat": 4,
 "nbformat_minor": 4
}
